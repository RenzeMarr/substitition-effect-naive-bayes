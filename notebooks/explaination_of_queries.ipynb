{
 "cells": [
  {
   "metadata": {},
   "cell_type": "markdown",
   "source": [
    "## Naive Bayes: Limes and Lemons Shop\n",
    "\n",
    "![Alt Text](img.png)\n",
    "\n",
    "In this notebook, we will use **Naive Bayes**—a probabilistic model based on Bayes' theorem—to adjust transaction quantities by considering how stock-outs influence purchasing behavior. Specifically, we will focus on how the probability of purchasing Product A (e.g., lemons) changes when Product B (e.g., limes) is out of stock. This model allows us to calculate a correction ratio that adjusts the observed sales data, ensuring our definition of demand is more accurate.\n",
    "\n",
    "The correction ratio is the ratio between two posterior probabilities:\n",
    "\n",
    "- The probability of purchasing Product A when all products are available.\n",
    "- The probability of purchasing Product A when Product B is out of stock.\n",
    "\n",
    "For example, if the probability of purchasing lemons is 0.5 when limes are available but increases to 0.8 when limes are out of stock, we can adjust the lemon transactions by applying a correction factor of 0.5 / 0.8 = 0.625. This adjustment helps prevent overforecasting lemon demand due to the stock-out of limes."
   ],
   "id": "cc50fc1cf0037ae1"
  },
  {
   "cell_type": "code",
   "id": "initial_id",
   "metadata": {
    "collapsed": true,
    "ExecuteTime": {
     "end_time": "2024-10-08T10:04:46.405487Z",
     "start_time": "2024-10-08T10:04:45.208439Z"
    }
   },
   "source": [
    "import sqlite3\n",
    "import pandas as pd"
   ],
   "outputs": [],
   "execution_count": 2
  },
  {
   "metadata": {},
   "cell_type": "markdown",
   "source": [
    "### Load the Data\n",
    "\n",
    "The input data consists of the following tables:\n",
    "\n",
    "1. `transactions`: Contains the transaction_id, product_id, and quantity of products purchased.\n",
    "2. `product_stock_outs`: Contains the product_id and the date_time when the product was out of stock.\n",
    "3. `substitution_groups`: Contains the substitution_group_id and the product_ids that are substitutes of each other.\n",
    "4. `transaction_spine`: Contains a list of all possible combinations of transactions and items within the substitution group. This is mainly used as the spine to find the availability of every product during a transaction.\n",
    "5. `transaction_outcome`: Contains the outcome of each transaction, i.e., which product was purchased\n",
    "6. `transaction_availability`: Contains the transaction_id, product_id_available, and the substitution_group_id.\n",
    "\n",
    "The Naive Bayes model consists requires the following tables:\n",
    "\n",
    "7. `priors`: Contains the prior probabilities of purchasing a product.\n",
    "8. `likelihoods`: Contains the likelihoods of observing the evidence given the hypothesis.\n",
    "9. `posteriors`: Contains the posterior probabilities of purchasing a product given the evidence.\n",
    "\n",
    "The output data consists of:\n",
    "\n",
    "10. `transactions_corrected`: Contains the corrected transactions after applying the substitution correction."
   ],
   "id": "b4d52d8358a3cedd"
  },
  {
   "metadata": {
    "ExecuteTime": {
     "end_time": "2024-10-08T10:04:47.027055Z",
     "start_time": "2024-10-08T10:04:47.024730Z"
    }
   },
   "cell_type": "code",
   "source": [
    "def execute_sql_file(filepath, connection):\n",
    "    with open(filepath, 'r') as file:\n",
    "        sql_script = file.read()\n",
    "    connection.executescript(sql_script)\n",
    "    print(f\"Executed {filepath}\")\n",
    "\n",
    "conn = sqlite3.connect(':memory:')\n",
    "cursor = conn.cursor()"
   ],
   "id": "2ecf06249416034d",
   "outputs": [],
   "execution_count": 3
  },
  {
   "metadata": {
    "ExecuteTime": {
     "end_time": "2024-10-06T11:44:44.850611Z",
     "start_time": "2024-10-06T11:44:44.839747Z"
    }
   },
   "cell_type": "code",
   "source": [
    "# Load input data\n",
    "execute_sql_file('../data/input/transactions.sql', conn)\n",
    "execute_sql_file('../data/input/product_stock_outs.sql', conn)\n",
    "execute_sql_file('../data/input/substitution_groups.sql', conn)\n",
    "execute_sql_file('../data/input/transaction_spine.sql', conn)\n",
    "execute_sql_file('../data/input/transaction_outcome.sql', conn)\n",
    "execute_sql_file('../data/input/transaction_availability.sql', conn)\n",
    "\n",
    "# Load naive bayes model\n",
    "execute_sql_file('../data/naive_bayes/priors.sql', conn)\n",
    "execute_sql_file('../data/naive_bayes/likelihoods.sql', conn)\n",
    "execute_sql_file('../data/naive_bayes/posteriors.sql', conn)\n",
    "\n",
    "# Load output data\n",
    "execute_sql_file('../data/output/transactions_corrected.sql', conn)"
   ],
   "id": "eb72d13b307623c7",
   "outputs": [
    {
     "name": "stdout",
     "output_type": "stream",
     "text": [
      "Executed ../data/input/transactions.sql\n",
      "Executed ../data/input/product_stock_outs.sql\n",
      "Executed ../data/input/substitution_groups.sql\n",
      "Executed ../data/input/transaction_spine.sql\n",
      "Executed ../data/input/transaction_outcome.sql\n",
      "Executed ../data/input/product_stock_outs.sql\n",
      "Executed ../data/input/transaction_availability.sql\n",
      "Executed ../data/naive_bayes/priors.sql\n",
      "Executed ../data/naive_bayes/likelihoods.sql\n",
      "Executed ../data/naive_bayes/posteriors.sql\n",
      "Executed ../data/output/transactions_corrected.sql\n"
     ]
    }
   ],
   "execution_count": 3
  },
  {
   "metadata": {},
   "cell_type": "markdown",
   "source": [
    "### Explore the Data\n",
    "\n",
    "Let's look at the transactions to understand whether it makes sense to look for a substitution effect between limes and lemons.\n",
    "\n",
    "At first glance, it looks like there is a strong customer preference towards lemons."
   ],
   "id": "940dd5f1c5c09384"
  },
  {
   "metadata": {
    "ExecuteTime": {
     "end_time": "2024-10-06T11:44:59.097086Z",
     "start_time": "2024-10-06T11:44:59.089747Z"
    }
   },
   "cell_type": "code",
   "source": [
    "df_transactions = pd.read_sql_query('SELECT * FROM transactions', conn)\n",
    "df_transactions.head()"
   ],
   "id": "6fdcd469a1cdbbbb",
   "outputs": [
    {
     "data": {
      "text/plain": [
       "   transaction_id      sales_date_time product_name  product_id  quantity_sold\n",
       "0               1  2024-10-01 13:15:00         lime          11              2\n",
       "1               2  2024-10-01 13:20:00        lemon          12              1\n",
       "2               3  2024-10-01 14:50:00         lime          11              3\n",
       "3               4  2024-10-01 14:55:00        lemon          12              1\n",
       "4               5  2024-10-01 15:00:00        lemon          12              3"
      ],
      "text/html": [
       "<div>\n",
       "<style scoped>\n",
       "    .dataframe tbody tr th:only-of-type {\n",
       "        vertical-align: middle;\n",
       "    }\n",
       "\n",
       "    .dataframe tbody tr th {\n",
       "        vertical-align: top;\n",
       "    }\n",
       "\n",
       "    .dataframe thead th {\n",
       "        text-align: right;\n",
       "    }\n",
       "</style>\n",
       "<table border=\"1\" class=\"dataframe\">\n",
       "  <thead>\n",
       "    <tr style=\"text-align: right;\">\n",
       "      <th></th>\n",
       "      <th>transaction_id</th>\n",
       "      <th>sales_date_time</th>\n",
       "      <th>product_name</th>\n",
       "      <th>product_id</th>\n",
       "      <th>quantity_sold</th>\n",
       "    </tr>\n",
       "  </thead>\n",
       "  <tbody>\n",
       "    <tr>\n",
       "      <th>0</th>\n",
       "      <td>1</td>\n",
       "      <td>2024-10-01 13:15:00</td>\n",
       "      <td>lime</td>\n",
       "      <td>11</td>\n",
       "      <td>2</td>\n",
       "    </tr>\n",
       "    <tr>\n",
       "      <th>1</th>\n",
       "      <td>2</td>\n",
       "      <td>2024-10-01 13:20:00</td>\n",
       "      <td>lemon</td>\n",
       "      <td>12</td>\n",
       "      <td>1</td>\n",
       "    </tr>\n",
       "    <tr>\n",
       "      <th>2</th>\n",
       "      <td>3</td>\n",
       "      <td>2024-10-01 14:50:00</td>\n",
       "      <td>lime</td>\n",
       "      <td>11</td>\n",
       "      <td>3</td>\n",
       "    </tr>\n",
       "    <tr>\n",
       "      <th>3</th>\n",
       "      <td>4</td>\n",
       "      <td>2024-10-01 14:55:00</td>\n",
       "      <td>lemon</td>\n",
       "      <td>12</td>\n",
       "      <td>1</td>\n",
       "    </tr>\n",
       "    <tr>\n",
       "      <th>4</th>\n",
       "      <td>5</td>\n",
       "      <td>2024-10-01 15:00:00</td>\n",
       "      <td>lemon</td>\n",
       "      <td>12</td>\n",
       "      <td>3</td>\n",
       "    </tr>\n",
       "  </tbody>\n",
       "</table>\n",
       "</div>"
      ]
     },
     "execution_count": 5,
     "metadata": {},
     "output_type": "execute_result"
    }
   ],
   "execution_count": 5
  },
  {
   "metadata": {
    "ExecuteTime": {
     "end_time": "2024-10-06T10:52:34.596091Z",
     "start_time": "2024-10-06T10:52:34.590401Z"
    }
   },
   "cell_type": "code",
   "source": [
    "# look at nr of transactions per product\n",
    "df_transactions.groupby('product_name').size().reset_index(name='nr_transactions')"
   ],
   "id": "f99665823825b1b2",
   "outputs": [
    {
     "data": {
      "text/plain": [
       "  product_name  nr_transactions\n",
       "0        lemon               23\n",
       "1         lime               14"
      ],
      "text/html": [
       "<div>\n",
       "<style scoped>\n",
       "    .dataframe tbody tr th:only-of-type {\n",
       "        vertical-align: middle;\n",
       "    }\n",
       "\n",
       "    .dataframe tbody tr th {\n",
       "        vertical-align: top;\n",
       "    }\n",
       "\n",
       "    .dataframe thead th {\n",
       "        text-align: right;\n",
       "    }\n",
       "</style>\n",
       "<table border=\"1\" class=\"dataframe\">\n",
       "  <thead>\n",
       "    <tr style=\"text-align: right;\">\n",
       "      <th></th>\n",
       "      <th>product_name</th>\n",
       "      <th>nr_transactions</th>\n",
       "    </tr>\n",
       "  </thead>\n",
       "  <tbody>\n",
       "    <tr>\n",
       "      <th>0</th>\n",
       "      <td>lemon</td>\n",
       "      <td>23</td>\n",
       "    </tr>\n",
       "    <tr>\n",
       "      <th>1</th>\n",
       "      <td>lime</td>\n",
       "      <td>14</td>\n",
       "    </tr>\n",
       "  </tbody>\n",
       "</table>\n",
       "</div>"
      ]
     },
     "execution_count": 112,
     "metadata": {},
     "output_type": "execute_result"
    }
   ],
   "execution_count": 112
  },
  {
   "metadata": {
    "ExecuteTime": {
     "end_time": "2024-10-06T11:10:42.120699Z",
     "start_time": "2024-10-06T11:10:42.113960Z"
    }
   },
   "cell_type": "code",
   "source": [
    "# Find transactions made when there were stock outs\n",
    "df_out_of_stock = pd.read_sql_query(\"\"\"\n",
    "    SELECT DISTINCT \n",
    "        transaction_id,  \n",
    "        CASE WHEN product_id_outcome = 11 THEN 'lime' ELSE 'lemon' END AS product_purchased,\n",
    "        CASE WHEN product_id_available = 11 THEN 'lime' ELSE 'lemon' END AS product_stock_out,\n",
    "        is_available\n",
    "    FROM transaction_outcome\n",
    "    INNER JOIN transaction_availability USING (transaction_id)\n",
    "    WHERE is_available = 0\n",
    "\"\"\", conn)\n",
    "\n",
    "df_out_of_stock\n"
   ],
   "id": "b798bf76dc24ebb0",
   "outputs": [
    {
     "data": {
      "text/plain": [
       "   transaction_id product_purchased product_stock_out  is_available\n",
       "0              19             lemon              lime             0\n",
       "1              20             lemon              lime             0\n",
       "2              21             lemon              lime             0\n",
       "3              22             lemon              lime             0\n",
       "4              23             lemon              lime             0\n",
       "5              24             lemon              lime             0\n",
       "6              26             lemon              lime             0\n",
       "7              27             lemon              lime             0"
      ],
      "text/html": [
       "<div>\n",
       "<style scoped>\n",
       "    .dataframe tbody tr th:only-of-type {\n",
       "        vertical-align: middle;\n",
       "    }\n",
       "\n",
       "    .dataframe tbody tr th {\n",
       "        vertical-align: top;\n",
       "    }\n",
       "\n",
       "    .dataframe thead th {\n",
       "        text-align: right;\n",
       "    }\n",
       "</style>\n",
       "<table border=\"1\" class=\"dataframe\">\n",
       "  <thead>\n",
       "    <tr style=\"text-align: right;\">\n",
       "      <th></th>\n",
       "      <th>transaction_id</th>\n",
       "      <th>product_purchased</th>\n",
       "      <th>product_stock_out</th>\n",
       "      <th>is_available</th>\n",
       "    </tr>\n",
       "  </thead>\n",
       "  <tbody>\n",
       "    <tr>\n",
       "      <th>0</th>\n",
       "      <td>19</td>\n",
       "      <td>lemon</td>\n",
       "      <td>lime</td>\n",
       "      <td>0</td>\n",
       "    </tr>\n",
       "    <tr>\n",
       "      <th>1</th>\n",
       "      <td>20</td>\n",
       "      <td>lemon</td>\n",
       "      <td>lime</td>\n",
       "      <td>0</td>\n",
       "    </tr>\n",
       "    <tr>\n",
       "      <th>2</th>\n",
       "      <td>21</td>\n",
       "      <td>lemon</td>\n",
       "      <td>lime</td>\n",
       "      <td>0</td>\n",
       "    </tr>\n",
       "    <tr>\n",
       "      <th>3</th>\n",
       "      <td>22</td>\n",
       "      <td>lemon</td>\n",
       "      <td>lime</td>\n",
       "      <td>0</td>\n",
       "    </tr>\n",
       "    <tr>\n",
       "      <th>4</th>\n",
       "      <td>23</td>\n",
       "      <td>lemon</td>\n",
       "      <td>lime</td>\n",
       "      <td>0</td>\n",
       "    </tr>\n",
       "    <tr>\n",
       "      <th>5</th>\n",
       "      <td>24</td>\n",
       "      <td>lemon</td>\n",
       "      <td>lime</td>\n",
       "      <td>0</td>\n",
       "    </tr>\n",
       "    <tr>\n",
       "      <th>6</th>\n",
       "      <td>26</td>\n",
       "      <td>lemon</td>\n",
       "      <td>lime</td>\n",
       "      <td>0</td>\n",
       "    </tr>\n",
       "    <tr>\n",
       "      <th>7</th>\n",
       "      <td>27</td>\n",
       "      <td>lemon</td>\n",
       "      <td>lime</td>\n",
       "      <td>0</td>\n",
       "    </tr>\n",
       "  </tbody>\n",
       "</table>\n",
       "</div>"
      ]
     },
     "execution_count": 133,
     "metadata": {},
     "output_type": "execute_result"
    }
   ],
   "execution_count": 133
  },
  {
   "metadata": {},
   "cell_type": "markdown",
   "source": [
    "### Define the Problem\n",
    "\n",
    "In our dataset, we observed **8 transactions** where customers purchased lemons while limes were out of stock. Since lemons and limes are likely substitutes, we want to estimate the probability that a customer will purchase lemons specifically because limes are unavailable.\n",
    "\n",
    "To do this, we’ll apply Naive Bayes to compute the posterior probability of purchasing lemons, given that limes are out of stock. The formula is:\n",
    "\n",
    "$$ P(Lemons | Limes \\, Out \\, of \\, Stock) = \\frac{P(Limes \\, Out \\, of \\, Stock | Lemons) \\cdot P(Lemons)}{P(Limes \\, Out \\, of \\, Stock)} $$\n",
    "\n",
    "Where: \n",
    "\n",
    "- $P(Lemons | Limes \\, Out \\, of \\, Stock)$ is the posterior probability of purchasing lemons given that limes are out of stock.\n",
    "- $P(Limes \\, Out \\, of \\, Stock | Lemons)$ is the likelihood of observing that limes are out of stock given that lemons were purchased.\n",
    "- $P(Lemons)$ is the prior probability of purchasing lemons.\n",
    "- $P(Limes \\, Out \\, of \\, Stock)$ is the normalization constant.\n",
    "\n",
    "We begin by breaking down the problem and calculating the **priors** and **likelihoods**.\n",
    "\n",
    "\n"
   ],
   "id": "c8bbd5e5a70d4a8e"
  },
  {
   "metadata": {
    "ExecuteTime": {
     "end_time": "2024-10-06T10:56:11.054256Z",
     "start_time": "2024-10-06T10:56:11.047753Z"
    }
   },
   "cell_type": "code",
   "source": [
    "df_priors = pd.read_sql_query(\"\"\"\n",
    "SELECT \n",
    "    CASE WHEN product_id_outcome = 11 THEN 'lime' ELSE 'lemon' END AS product_name,\n",
    "    count as n_times_purchased,\n",
    "    total as n_total_purchased,\n",
    "    prior\n",
    "FROM priors\n",
    "\"\"\", conn)\n",
    "\n",
    "df_priors.head()"
   ],
   "id": "86081e9c83659fef",
   "outputs": [
    {
     "data": {
      "text/plain": [
       "  product_name  n_times_purchased  n_total_purchased     prior\n",
       "0         lime                 14                 37  0.378378\n",
       "1        lemon                 23                 37  0.621622"
      ],
      "text/html": [
       "<div>\n",
       "<style scoped>\n",
       "    .dataframe tbody tr th:only-of-type {\n",
       "        vertical-align: middle;\n",
       "    }\n",
       "\n",
       "    .dataframe tbody tr th {\n",
       "        vertical-align: top;\n",
       "    }\n",
       "\n",
       "    .dataframe thead th {\n",
       "        text-align: right;\n",
       "    }\n",
       "</style>\n",
       "<table border=\"1\" class=\"dataframe\">\n",
       "  <thead>\n",
       "    <tr style=\"text-align: right;\">\n",
       "      <th></th>\n",
       "      <th>product_name</th>\n",
       "      <th>n_times_purchased</th>\n",
       "      <th>n_total_purchased</th>\n",
       "      <th>prior</th>\n",
       "    </tr>\n",
       "  </thead>\n",
       "  <tbody>\n",
       "    <tr>\n",
       "      <th>0</th>\n",
       "      <td>lime</td>\n",
       "      <td>14</td>\n",
       "      <td>37</td>\n",
       "      <td>0.378378</td>\n",
       "    </tr>\n",
       "    <tr>\n",
       "      <th>1</th>\n",
       "      <td>lemon</td>\n",
       "      <td>23</td>\n",
       "      <td>37</td>\n",
       "      <td>0.621622</td>\n",
       "    </tr>\n",
       "  </tbody>\n",
       "</table>\n",
       "</div>"
      ]
     },
     "execution_count": 120,
     "metadata": {},
     "output_type": "execute_result"
    }
   ],
   "execution_count": 120
  },
  {
   "metadata": {},
   "cell_type": "markdown",
   "source": [
    "We calculate this prior as the ratio of the number of transactions involving limes to the total number of transactions observed. For example, if we observed **14 transactions** where limes were purchased out of a total of **37 transactions**, the prior probability of purchasing limes is:\n",
    "\n",
    "$$ P(Limes) = \\frac{14}{37} = 0.378378 $$\n",
    "\n",
    "This means that, on average, there is a **37.8% chance** that a customer will purchase limes, not considering the availability of lemons. With the prior probability of purchasing limes established, we can move on to calculating the likelihoods needed for our Naive Bayes model."
   ],
   "id": "1c780ea7c0f090d9"
  },
  {
   "metadata": {
    "ExecuteTime": {
     "end_time": "2024-10-06T11:57:42.777318Z",
     "start_time": "2024-10-06T11:57:42.770512Z"
    }
   },
   "cell_type": "code",
   "source": [
    "df_likelihoods = pd.read_sql_query(\"\"\"\n",
    "WITH outcome_availability AS ( \n",
    "    SELECT DISTINCT \n",
    "        substitution_group_id,\n",
    "        transaction_id,\n",
    "        product_id_outcome,\n",
    "        product_id_available,\n",
    "        is_available\n",
    "    FROM transaction_outcome\n",
    "    INNER JOIN transaction_availability USING (transaction_id, substitution_group_id)\n",
    ")\n",
    "\n",
    "SELECT\n",
    "    CASE WHEN product_id_outcome = 11 THEN 'lime' ELSE 'lemon' END AS product_purchased,\n",
    "    CASE WHEN product_id_available = 11 THEN 'lime' ELSE 'lemon' END AS product_stock_out,\n",
    "    is_available,\n",
    "    COUNT(*) as n_occurrences_of_stock_out_status,\n",
    "    SUM(COUNT(*)) OVER (PARTITION BY product_id_outcome, product_id_available) as total,\n",
    "    CAST(COUNT(*) AS REAL) / CAST(SUM(COUNT(*)) OVER (PARTITION BY substitution_group_id, product_id_outcome, product_id_available) AS REAL) as likelihood\n",
    "FROM outcome_availability\n",
    "WHERE product_id_outcome = 12 and product_id_available = 11\n",
    "GROUP BY \n",
    "    product_id_outcome,\n",
    "    product_id_available,\n",
    "    is_available\n",
    "\"\"\", conn)\n",
    "\n",
    "df_likelihoods"
   ],
   "id": "d940eb17aad3c7bf",
   "outputs": [
    {
     "data": {
      "text/plain": [
       "  product_purchased product_stock_out  is_available  \\\n",
       "0             lemon              lime             0   \n",
       "1             lemon              lime             1   \n",
       "\n",
       "   n_occurrences_of_stock_out_status  total  likelihood  \n",
       "0                                  8     23    0.347826  \n",
       "1                                 15     23    0.652174  "
      ],
      "text/html": [
       "<div>\n",
       "<style scoped>\n",
       "    .dataframe tbody tr th:only-of-type {\n",
       "        vertical-align: middle;\n",
       "    }\n",
       "\n",
       "    .dataframe tbody tr th {\n",
       "        vertical-align: top;\n",
       "    }\n",
       "\n",
       "    .dataframe thead th {\n",
       "        text-align: right;\n",
       "    }\n",
       "</style>\n",
       "<table border=\"1\" class=\"dataframe\">\n",
       "  <thead>\n",
       "    <tr style=\"text-align: right;\">\n",
       "      <th></th>\n",
       "      <th>product_purchased</th>\n",
       "      <th>product_stock_out</th>\n",
       "      <th>is_available</th>\n",
       "      <th>n_occurrences_of_stock_out_status</th>\n",
       "      <th>total</th>\n",
       "      <th>likelihood</th>\n",
       "    </tr>\n",
       "  </thead>\n",
       "  <tbody>\n",
       "    <tr>\n",
       "      <th>0</th>\n",
       "      <td>lemon</td>\n",
       "      <td>lime</td>\n",
       "      <td>0</td>\n",
       "      <td>8</td>\n",
       "      <td>23</td>\n",
       "      <td>0.347826</td>\n",
       "    </tr>\n",
       "    <tr>\n",
       "      <th>1</th>\n",
       "      <td>lemon</td>\n",
       "      <td>lime</td>\n",
       "      <td>1</td>\n",
       "      <td>15</td>\n",
       "      <td>23</td>\n",
       "      <td>0.652174</td>\n",
       "    </tr>\n",
       "  </tbody>\n",
       "</table>\n",
       "</div>"
      ]
     },
     "execution_count": 18,
     "metadata": {},
     "output_type": "execute_result"
    }
   ],
   "execution_count": 18
  },
  {
   "metadata": {},
   "cell_type": "markdown",
   "source": [
    "The **likelihood** represents the probability of observing certain evidence given a specific hypothesis. In this case, we are interested in the likelihood of **limes being out of stock** given that a customer has purchased **lemons**. This helps us understand how often stock-outs of limes coincide with purchases of lemons.\n",
    "\n",
    "To compute this likelihood, we need to count two things:\n",
    "\n",
    "- The number of transactions where limes were out of stock and lemons were purchased (8 occurrences).\n",
    "- The total number of transactions where lemons were purchased (23 occurrences).\n",
    "\n",
    "Using this information, the likelihood is calculated as:\n",
    "\n",
    "$$ P(Limes \\, Out \\, of \\, Stock | Lemons) = \\frac{8}{23} = 0.3478 $$\n",
    "\n",
    "This value tells us that in about 34.8% of lemon purchases, limes were out of stock.\n",
    "\n",
    "With both the priors and likelihoods now calculated, we have all the components needed to compute the posterior probability."
   ],
   "id": "74befadf09cc87b2"
  },
  {
   "metadata": {
    "ExecuteTime": {
     "end_time": "2024-10-06T12:06:27.719922Z",
     "start_time": "2024-10-06T12:06:27.714728Z"
    }
   },
   "cell_type": "code",
   "source": [
    "### TODO: More indepth on calculation and normalization constant\n",
    "\n",
    "df_posteriors = pd.read_sql_query(\"\"\"\n",
    "SELECT \n",
    "    transaction_id,\n",
    "    posterior,\n",
    "    posterior_base,\n",
    "    substitution_correction_ratio\n",
    "FROM posteriors\n",
    "WHERE posterior > posterior_base\n",
    "\"\"\", conn)\n",
    "df_posteriors"
   ],
   "id": "8d14c16f7b0ff4e6",
   "outputs": [
    {
     "data": {
      "text/plain": [
       "   transaction_id  posterior  posterior_base  substitution_correction_ratio\n",
       "0              19        1.0           0.545                          0.545\n",
       "1              20        1.0           0.545                          0.545\n",
       "2              21        1.0           0.545                          0.545\n",
       "3              22        1.0           0.545                          0.545\n",
       "4              23        1.0           0.545                          0.545\n",
       "5              24        1.0           0.545                          0.545\n",
       "6              25        1.0           0.545                          0.545\n",
       "7              26        1.0           0.545                          0.545"
      ],
      "text/html": [
       "<div>\n",
       "<style scoped>\n",
       "    .dataframe tbody tr th:only-of-type {\n",
       "        vertical-align: middle;\n",
       "    }\n",
       "\n",
       "    .dataframe tbody tr th {\n",
       "        vertical-align: top;\n",
       "    }\n",
       "\n",
       "    .dataframe thead th {\n",
       "        text-align: right;\n",
       "    }\n",
       "</style>\n",
       "<table border=\"1\" class=\"dataframe\">\n",
       "  <thead>\n",
       "    <tr style=\"text-align: right;\">\n",
       "      <th></th>\n",
       "      <th>transaction_id</th>\n",
       "      <th>posterior</th>\n",
       "      <th>posterior_base</th>\n",
       "      <th>substitution_correction_ratio</th>\n",
       "    </tr>\n",
       "  </thead>\n",
       "  <tbody>\n",
       "    <tr>\n",
       "      <th>0</th>\n",
       "      <td>19</td>\n",
       "      <td>1.0</td>\n",
       "      <td>0.545</td>\n",
       "      <td>0.545</td>\n",
       "    </tr>\n",
       "    <tr>\n",
       "      <th>1</th>\n",
       "      <td>20</td>\n",
       "      <td>1.0</td>\n",
       "      <td>0.545</td>\n",
       "      <td>0.545</td>\n",
       "    </tr>\n",
       "    <tr>\n",
       "      <th>2</th>\n",
       "      <td>21</td>\n",
       "      <td>1.0</td>\n",
       "      <td>0.545</td>\n",
       "      <td>0.545</td>\n",
       "    </tr>\n",
       "    <tr>\n",
       "      <th>3</th>\n",
       "      <td>22</td>\n",
       "      <td>1.0</td>\n",
       "      <td>0.545</td>\n",
       "      <td>0.545</td>\n",
       "    </tr>\n",
       "    <tr>\n",
       "      <th>4</th>\n",
       "      <td>23</td>\n",
       "      <td>1.0</td>\n",
       "      <td>0.545</td>\n",
       "      <td>0.545</td>\n",
       "    </tr>\n",
       "    <tr>\n",
       "      <th>5</th>\n",
       "      <td>24</td>\n",
       "      <td>1.0</td>\n",
       "      <td>0.545</td>\n",
       "      <td>0.545</td>\n",
       "    </tr>\n",
       "    <tr>\n",
       "      <th>6</th>\n",
       "      <td>25</td>\n",
       "      <td>1.0</td>\n",
       "      <td>0.545</td>\n",
       "      <td>0.545</td>\n",
       "    </tr>\n",
       "    <tr>\n",
       "      <th>7</th>\n",
       "      <td>26</td>\n",
       "      <td>1.0</td>\n",
       "      <td>0.545</td>\n",
       "      <td>0.545</td>\n",
       "    </tr>\n",
       "  </tbody>\n",
       "</table>\n",
       "</div>"
      ]
     },
     "execution_count": 24,
     "metadata": {},
     "output_type": "execute_result"
    }
   ],
   "execution_count": 24
  },
  {
   "metadata": {},
   "cell_type": "markdown",
   "source": "",
   "id": "105981cd98070ef7"
  },
  {
   "metadata": {},
   "cell_type": "markdown",
   "source": [
    "$$ P(Lemons | Limes \\, Out \\, of \\, Stock) = \\frac{P(Limes \\, Out \\, of \\, Stock | Lemons) \\cdot P(Lemons)}{P(Limes \\, Out \\, of \\, Stock)} $$\n",
    "\n",
    "Substitute the values:\n",
    "\n",
    "$$ P(Lemons | Limes \\, Out \\, of \\, Stock) = \\frac{0.3478 \\cdot 0.6216}{0.2162} $$\n",
    "\n",
    "This simplifies to:\n",
    "\n",
    "$$ P(Lemons | Limes \\, Out \\, of \\, Stock) = 1 $$"
   ],
   "id": "93ca232fa8cbf9f3"
  }
 ],
 "metadata": {
  "kernelspec": {
   "display_name": "Python 3",
   "language": "python",
   "name": "python3"
  },
  "language_info": {
   "codemirror_mode": {
    "name": "ipython",
    "version": 2
   },
   "file_extension": ".py",
   "mimetype": "text/x-python",
   "name": "python",
   "nbconvert_exporter": "python",
   "pygments_lexer": "ipython2",
   "version": "2.7.6"
  }
 },
 "nbformat": 4,
 "nbformat_minor": 5
}
