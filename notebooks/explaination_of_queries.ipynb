{
 "cells": [
  {
   "metadata": {},
   "cell_type": "markdown",
   "source": "## Naive Bayes: Limes and Lemons Shop",
   "id": "cc50fc1cf0037ae1"
  },
  {
   "cell_type": "code",
   "id": "initial_id",
   "metadata": {
    "collapsed": true,
    "ExecuteTime": {
     "end_time": "2024-10-06T11:44:41.477068Z",
     "start_time": "2024-10-06T11:44:40.115949Z"
    }
   },
   "source": [
    "import sqlite3\n",
    "import pandas as pd"
   ],
   "outputs": [],
   "execution_count": 1
  },
  {
   "metadata": {
    "ExecuteTime": {
     "end_time": "2024-10-06T11:44:42.578758Z",
     "start_time": "2024-10-06T11:44:42.574836Z"
    }
   },
   "cell_type": "code",
   "source": [
    "# Function to read and execute SQL model files\n",
    "def execute_sql_file(filepath, connection):\n",
    "    with open(filepath, 'r') as file:\n",
    "        sql_script = file.read()\n",
    "    connection.executescript(sql_script)\n",
    "    print(f\"Executed {filepath}\")\n",
    "\n",
    "# Creating a connection to SQLite for demo purposes\n",
    "conn = sqlite3.connect(':memory:')  # Using an in-memory database for simplicity\n",
    "cursor = conn.cursor()"
   ],
   "id": "2ecf06249416034d",
   "outputs": [],
   "execution_count": 2
  },
  {
   "metadata": {
    "ExecuteTime": {
     "end_time": "2024-10-06T11:44:44.850611Z",
     "start_time": "2024-10-06T11:44:44.839747Z"
    }
   },
   "cell_type": "code",
   "source": [
    "# Load input data\n",
    "execute_sql_file('../data/input/transactions.sql', conn)\n",
    "execute_sql_file('../data/input/product_stock_outs.sql', conn)\n",
    "execute_sql_file('../data/input/substitution_groups.sql', conn)\n",
    "execute_sql_file('../data/input/transaction_spine.sql', conn)\n",
    "execute_sql_file('../data/input/transaction_outcome.sql', conn)\n",
    "execute_sql_file('../data/input/transaction_availability.sql', conn)\n",
    "\n",
    "# Load naive bayes model\n",
    "execute_sql_file('../data/naive_bayes/priors.sql', conn)\n",
    "execute_sql_file('../data/naive_bayes/likelihoods.sql', conn)\n",
    "execute_sql_file('../data/naive_bayes/posteriors.sql', conn)\n",
    "\n",
    "# Load output data\n",
    "execute_sql_file('../data/output/transactions_corrected.sql', conn)\n"
   ],
   "id": "eb72d13b307623c7",
   "outputs": [
    {
     "name": "stdout",
     "output_type": "stream",
     "text": [
      "Executed ../data/input/transactions.sql\n",
      "Executed ../data/input/product_stock_outs.sql\n",
      "Executed ../data/input/substitution_groups.sql\n",
      "Executed ../data/input/transaction_spine.sql\n",
      "Executed ../data/input/transaction_outcome.sql\n",
      "Executed ../data/input/product_stock_outs.sql\n",
      "Executed ../data/input/transaction_availability.sql\n",
      "Executed ../data/naive_bayes/priors.sql\n",
      "Executed ../data/naive_bayes/likelihoods.sql\n",
      "Executed ../data/naive_bayes/posteriors.sql\n",
      "Executed ../data/output/transactions_corrected.sql\n"
     ]
    }
   ],
   "execution_count": 3
  },
  {
   "metadata": {
    "ExecuteTime": {
     "end_time": "2024-10-06T11:44:59.097086Z",
     "start_time": "2024-10-06T11:44:59.089747Z"
    }
   },
   "cell_type": "code",
   "source": [
    "df_transactions = pd.read_sql_query('SELECT * FROM transactions', conn)\n",
    "df_transactions.head()"
   ],
   "id": "6fdcd469a1cdbbbb",
   "outputs": [
    {
     "data": {
      "text/plain": [
       "   transaction_id      sales_date_time product_name  product_id  quantity_sold\n",
       "0               1  2024-10-01 13:15:00         lime          11              2\n",
       "1               2  2024-10-01 13:20:00        lemon          12              1\n",
       "2               3  2024-10-01 14:50:00         lime          11              3\n",
       "3               4  2024-10-01 14:55:00        lemon          12              1\n",
       "4               5  2024-10-01 15:00:00        lemon          12              3"
      ],
      "text/html": [
       "<div>\n",
       "<style scoped>\n",
       "    .dataframe tbody tr th:only-of-type {\n",
       "        vertical-align: middle;\n",
       "    }\n",
       "\n",
       "    .dataframe tbody tr th {\n",
       "        vertical-align: top;\n",
       "    }\n",
       "\n",
       "    .dataframe thead th {\n",
       "        text-align: right;\n",
       "    }\n",
       "</style>\n",
       "<table border=\"1\" class=\"dataframe\">\n",
       "  <thead>\n",
       "    <tr style=\"text-align: right;\">\n",
       "      <th></th>\n",
       "      <th>transaction_id</th>\n",
       "      <th>sales_date_time</th>\n",
       "      <th>product_name</th>\n",
       "      <th>product_id</th>\n",
       "      <th>quantity_sold</th>\n",
       "    </tr>\n",
       "  </thead>\n",
       "  <tbody>\n",
       "    <tr>\n",
       "      <th>0</th>\n",
       "      <td>1</td>\n",
       "      <td>2024-10-01 13:15:00</td>\n",
       "      <td>lime</td>\n",
       "      <td>11</td>\n",
       "      <td>2</td>\n",
       "    </tr>\n",
       "    <tr>\n",
       "      <th>1</th>\n",
       "      <td>2</td>\n",
       "      <td>2024-10-01 13:20:00</td>\n",
       "      <td>lemon</td>\n",
       "      <td>12</td>\n",
       "      <td>1</td>\n",
       "    </tr>\n",
       "    <tr>\n",
       "      <th>2</th>\n",
       "      <td>3</td>\n",
       "      <td>2024-10-01 14:50:00</td>\n",
       "      <td>lime</td>\n",
       "      <td>11</td>\n",
       "      <td>3</td>\n",
       "    </tr>\n",
       "    <tr>\n",
       "      <th>3</th>\n",
       "      <td>4</td>\n",
       "      <td>2024-10-01 14:55:00</td>\n",
       "      <td>lemon</td>\n",
       "      <td>12</td>\n",
       "      <td>1</td>\n",
       "    </tr>\n",
       "    <tr>\n",
       "      <th>4</th>\n",
       "      <td>5</td>\n",
       "      <td>2024-10-01 15:00:00</td>\n",
       "      <td>lemon</td>\n",
       "      <td>12</td>\n",
       "      <td>3</td>\n",
       "    </tr>\n",
       "  </tbody>\n",
       "</table>\n",
       "</div>"
      ]
     },
     "execution_count": 5,
     "metadata": {},
     "output_type": "execute_result"
    }
   ],
   "execution_count": 5
  },
  {
   "metadata": {
    "ExecuteTime": {
     "end_time": "2024-10-06T10:52:34.596091Z",
     "start_time": "2024-10-06T10:52:34.590401Z"
    }
   },
   "cell_type": "code",
   "source": [
    "# look at nr of transactions per product\n",
    "df_transactions.groupby('product_name').size().reset_index(name='nr_transactions')"
   ],
   "id": "f99665823825b1b2",
   "outputs": [
    {
     "data": {
      "text/plain": [
       "  product_name  nr_transactions\n",
       "0        lemon               23\n",
       "1         lime               14"
      ],
      "text/html": [
       "<div>\n",
       "<style scoped>\n",
       "    .dataframe tbody tr th:only-of-type {\n",
       "        vertical-align: middle;\n",
       "    }\n",
       "\n",
       "    .dataframe tbody tr th {\n",
       "        vertical-align: top;\n",
       "    }\n",
       "\n",
       "    .dataframe thead th {\n",
       "        text-align: right;\n",
       "    }\n",
       "</style>\n",
       "<table border=\"1\" class=\"dataframe\">\n",
       "  <thead>\n",
       "    <tr style=\"text-align: right;\">\n",
       "      <th></th>\n",
       "      <th>product_name</th>\n",
       "      <th>nr_transactions</th>\n",
       "    </tr>\n",
       "  </thead>\n",
       "  <tbody>\n",
       "    <tr>\n",
       "      <th>0</th>\n",
       "      <td>lemon</td>\n",
       "      <td>23</td>\n",
       "    </tr>\n",
       "    <tr>\n",
       "      <th>1</th>\n",
       "      <td>lime</td>\n",
       "      <td>14</td>\n",
       "    </tr>\n",
       "  </tbody>\n",
       "</table>\n",
       "</div>"
      ]
     },
     "execution_count": 112,
     "metadata": {},
     "output_type": "execute_result"
    }
   ],
   "execution_count": 112
  },
  {
   "metadata": {},
   "cell_type": "markdown",
   "source": "At first glance, it looks like there is a strong customer preference towards lemons. But let's see whether this is indeed the case",
   "id": "9deb8e0f6835081"
  },
  {
   "metadata": {
    "ExecuteTime": {
     "end_time": "2024-10-06T11:10:42.120699Z",
     "start_time": "2024-10-06T11:10:42.113960Z"
    }
   },
   "cell_type": "code",
   "source": [
    "# Find transactions made when there were stock outs\n",
    "df_out_of_stock = pd.read_sql_query(\"\"\"\n",
    "    SELECT DISTINCT \n",
    "        transaction_id,  \n",
    "        CASE WHEN product_id_outcome = 11 THEN 'lime' ELSE 'lemon' END AS product_purchased,\n",
    "        CASE WHEN product_id_available = 11 THEN 'lime' ELSE 'lemon' END AS product_stock_out,\n",
    "        is_available\n",
    "    FROM transaction_outcome\n",
    "    INNER JOIN transaction_availability USING (transaction_id)\n",
    "    WHERE is_available = 0\n",
    "\"\"\", conn)\n",
    "\n",
    "df_out_of_stock\n"
   ],
   "id": "b798bf76dc24ebb0",
   "outputs": [
    {
     "data": {
      "text/plain": [
       "   transaction_id product_purchased product_stock_out  is_available\n",
       "0              19             lemon              lime             0\n",
       "1              20             lemon              lime             0\n",
       "2              21             lemon              lime             0\n",
       "3              22             lemon              lime             0\n",
       "4              23             lemon              lime             0\n",
       "5              24             lemon              lime             0\n",
       "6              26             lemon              lime             0\n",
       "7              27             lemon              lime             0"
      ],
      "text/html": [
       "<div>\n",
       "<style scoped>\n",
       "    .dataframe tbody tr th:only-of-type {\n",
       "        vertical-align: middle;\n",
       "    }\n",
       "\n",
       "    .dataframe tbody tr th {\n",
       "        vertical-align: top;\n",
       "    }\n",
       "\n",
       "    .dataframe thead th {\n",
       "        text-align: right;\n",
       "    }\n",
       "</style>\n",
       "<table border=\"1\" class=\"dataframe\">\n",
       "  <thead>\n",
       "    <tr style=\"text-align: right;\">\n",
       "      <th></th>\n",
       "      <th>transaction_id</th>\n",
       "      <th>product_purchased</th>\n",
       "      <th>product_stock_out</th>\n",
       "      <th>is_available</th>\n",
       "    </tr>\n",
       "  </thead>\n",
       "  <tbody>\n",
       "    <tr>\n",
       "      <th>0</th>\n",
       "      <td>19</td>\n",
       "      <td>lemon</td>\n",
       "      <td>lime</td>\n",
       "      <td>0</td>\n",
       "    </tr>\n",
       "    <tr>\n",
       "      <th>1</th>\n",
       "      <td>20</td>\n",
       "      <td>lemon</td>\n",
       "      <td>lime</td>\n",
       "      <td>0</td>\n",
       "    </tr>\n",
       "    <tr>\n",
       "      <th>2</th>\n",
       "      <td>21</td>\n",
       "      <td>lemon</td>\n",
       "      <td>lime</td>\n",
       "      <td>0</td>\n",
       "    </tr>\n",
       "    <tr>\n",
       "      <th>3</th>\n",
       "      <td>22</td>\n",
       "      <td>lemon</td>\n",
       "      <td>lime</td>\n",
       "      <td>0</td>\n",
       "    </tr>\n",
       "    <tr>\n",
       "      <th>4</th>\n",
       "      <td>23</td>\n",
       "      <td>lemon</td>\n",
       "      <td>lime</td>\n",
       "      <td>0</td>\n",
       "    </tr>\n",
       "    <tr>\n",
       "      <th>5</th>\n",
       "      <td>24</td>\n",
       "      <td>lemon</td>\n",
       "      <td>lime</td>\n",
       "      <td>0</td>\n",
       "    </tr>\n",
       "    <tr>\n",
       "      <th>6</th>\n",
       "      <td>26</td>\n",
       "      <td>lemon</td>\n",
       "      <td>lime</td>\n",
       "      <td>0</td>\n",
       "    </tr>\n",
       "    <tr>\n",
       "      <th>7</th>\n",
       "      <td>27</td>\n",
       "      <td>lemon</td>\n",
       "      <td>lime</td>\n",
       "      <td>0</td>\n",
       "    </tr>\n",
       "  </tbody>\n",
       "</table>\n",
       "</div>"
      ]
     },
     "execution_count": 133,
     "metadata": {},
     "output_type": "execute_result"
    }
   ],
   "execution_count": 133
  },
  {
   "metadata": {},
   "cell_type": "markdown",
   "source": [
    "We observed 8 transactions of lemons while limes were out of stock.\n",
    "\n",
    "Expecting that limes and lemons are substitutes of each other; let's see whether customers bought lemons as a substitute for limes.\n",
    "\n",
    "\n",
    "We can use Naive Bayes to calculate the posterior probability that a customer purchases lemons given that limes are out of stock:\n",
    "\n",
    "$$ P(Lemons | Limes \\, Out \\, of \\, Stock) = \\frac{P(Limes \\, Out \\, of \\, Stock | Lemons) \\cdot P(Lemons)}{P(Limes \\, Out \\, of \\, Stock)} $$\n",
    "\n",
    "Let's start by finding the priors and likelihoods.\n",
    "\n",
    "\n"
   ],
   "id": "c8bbd5e5a70d4a8e"
  },
  {
   "metadata": {
    "ExecuteTime": {
     "end_time": "2024-10-06T10:56:11.054256Z",
     "start_time": "2024-10-06T10:56:11.047753Z"
    }
   },
   "cell_type": "code",
   "source": [
    "df_priors = pd.read_sql_query(\"\"\"\n",
    "SELECT \n",
    "    CASE WHEN product_id_outcome = 11 THEN 'lime' ELSE 'lemon' END AS product_name,\n",
    "    count as n_times_purchased,\n",
    "    total as n_total_purchased,\n",
    "    prior\n",
    "FROM priors\n",
    "\"\"\", conn)\n",
    "\n",
    "df_priors.head()"
   ],
   "id": "86081e9c83659fef",
   "outputs": [
    {
     "data": {
      "text/plain": [
       "  product_name  n_times_purchased  n_total_purchased     prior\n",
       "0         lime                 14                 37  0.378378\n",
       "1        lemon                 23                 37  0.621622"
      ],
      "text/html": [
       "<div>\n",
       "<style scoped>\n",
       "    .dataframe tbody tr th:only-of-type {\n",
       "        vertical-align: middle;\n",
       "    }\n",
       "\n",
       "    .dataframe tbody tr th {\n",
       "        vertical-align: top;\n",
       "    }\n",
       "\n",
       "    .dataframe thead th {\n",
       "        text-align: right;\n",
       "    }\n",
       "</style>\n",
       "<table border=\"1\" class=\"dataframe\">\n",
       "  <thead>\n",
       "    <tr style=\"text-align: right;\">\n",
       "      <th></th>\n",
       "      <th>product_name</th>\n",
       "      <th>n_times_purchased</th>\n",
       "      <th>n_total_purchased</th>\n",
       "      <th>prior</th>\n",
       "    </tr>\n",
       "  </thead>\n",
       "  <tbody>\n",
       "    <tr>\n",
       "      <th>0</th>\n",
       "      <td>lime</td>\n",
       "      <td>14</td>\n",
       "      <td>37</td>\n",
       "      <td>0.378378</td>\n",
       "    </tr>\n",
       "    <tr>\n",
       "      <th>1</th>\n",
       "      <td>lemon</td>\n",
       "      <td>23</td>\n",
       "      <td>37</td>\n",
       "      <td>0.621622</td>\n",
       "    </tr>\n",
       "  </tbody>\n",
       "</table>\n",
       "</div>"
      ]
     },
     "execution_count": 120,
     "metadata": {},
     "output_type": "execute_result"
    }
   ],
   "execution_count": 120
  },
  {
   "metadata": {},
   "cell_type": "markdown",
   "source": [
    "We found, for example, the prior of limes by:\n",
    "\n",
    "$$ P(Limes) = \\frac{14}{37} = 0.378378 $$"
   ],
   "id": "1c780ea7c0f090d9"
  },
  {
   "metadata": {
    "ExecuteTime": {
     "end_time": "2024-10-06T11:57:42.777318Z",
     "start_time": "2024-10-06T11:57:42.770512Z"
    }
   },
   "cell_type": "code",
   "source": [
    "df_likelihoods = pd.read_sql_query(\"\"\"\n",
    "WITH outcome_availability AS ( \n",
    "    SELECT DISTINCT \n",
    "        substitution_group_id,\n",
    "        transaction_id,\n",
    "        product_id_outcome,\n",
    "        product_id_available,\n",
    "        is_available\n",
    "    FROM transaction_outcome\n",
    "    INNER JOIN transaction_availability USING (transaction_id, substitution_group_id)\n",
    ")\n",
    "\n",
    "SELECT\n",
    "    CASE WHEN product_id_outcome = 11 THEN 'lime' ELSE 'lemon' END AS product_purchased,\n",
    "    CASE WHEN product_id_available = 11 THEN 'lime' ELSE 'lemon' END AS product_stock_out,\n",
    "    is_available,\n",
    "    COUNT(*) as n_occurrences_of_stock_out_status,\n",
    "    SUM(COUNT(*)) OVER (PARTITION BY product_id_outcome, product_id_available) as total,\n",
    "    CAST(COUNT(*) AS REAL) / CAST(SUM(COUNT(*)) OVER (PARTITION BY substitution_group_id, product_id_outcome, product_id_available) AS REAL) as likelihood\n",
    "FROM outcome_availability\n",
    "WHERE product_id_outcome = 12 and product_id_available = 11\n",
    "GROUP BY \n",
    "    product_id_outcome,\n",
    "    product_id_available,\n",
    "    is_available\n",
    "\"\"\", conn)\n",
    "\n",
    "df_likelihoods"
   ],
   "id": "d940eb17aad3c7bf",
   "outputs": [
    {
     "data": {
      "text/plain": [
       "  product_purchased product_stock_out  is_available  \\\n",
       "0             lemon              lime             0   \n",
       "1             lemon              lime             1   \n",
       "\n",
       "   n_occurrences_of_stock_out_status  total  likelihood  \n",
       "0                                  8     23    0.347826  \n",
       "1                                 15     23    0.652174  "
      ],
      "text/html": [
       "<div>\n",
       "<style scoped>\n",
       "    .dataframe tbody tr th:only-of-type {\n",
       "        vertical-align: middle;\n",
       "    }\n",
       "\n",
       "    .dataframe tbody tr th {\n",
       "        vertical-align: top;\n",
       "    }\n",
       "\n",
       "    .dataframe thead th {\n",
       "        text-align: right;\n",
       "    }\n",
       "</style>\n",
       "<table border=\"1\" class=\"dataframe\">\n",
       "  <thead>\n",
       "    <tr style=\"text-align: right;\">\n",
       "      <th></th>\n",
       "      <th>product_purchased</th>\n",
       "      <th>product_stock_out</th>\n",
       "      <th>is_available</th>\n",
       "      <th>n_occurrences_of_stock_out_status</th>\n",
       "      <th>total</th>\n",
       "      <th>likelihood</th>\n",
       "    </tr>\n",
       "  </thead>\n",
       "  <tbody>\n",
       "    <tr>\n",
       "      <th>0</th>\n",
       "      <td>lemon</td>\n",
       "      <td>lime</td>\n",
       "      <td>0</td>\n",
       "      <td>8</td>\n",
       "      <td>23</td>\n",
       "      <td>0.347826</td>\n",
       "    </tr>\n",
       "    <tr>\n",
       "      <th>1</th>\n",
       "      <td>lemon</td>\n",
       "      <td>lime</td>\n",
       "      <td>1</td>\n",
       "      <td>15</td>\n",
       "      <td>23</td>\n",
       "      <td>0.652174</td>\n",
       "    </tr>\n",
       "  </tbody>\n",
       "</table>\n",
       "</div>"
      ]
     },
     "execution_count": 18,
     "metadata": {},
     "output_type": "execute_result"
    }
   ],
   "execution_count": 18
  },
  {
   "metadata": {},
   "cell_type": "markdown",
   "source": [
    "The likelihood can be understood as the probability of observing the evidence given the hypothesis. For example, the likelihood of observing that limes are out of stock given that we purchase lemons.\n",
    "\n",
    "This means we count two things:\n",
    "\n",
    "1. The number of times limes were out of stock when lemons were purchased: which is 8\n",
    "\n",
    "2. The number of times lemons were purchased: which is 23\n",
    "\n",
    "$$ P(Limes \\, Out \\, of \\, Stock | Lemons) = \\frac{8}{23} = 0.3478 $$\n",
    "\n",
    "Now we have calculated the priors and likelihoods, we have all the ingredients to calculate the posterior probability."
   ],
   "id": "74befadf09cc87b2"
  },
  {
   "metadata": {
    "ExecuteTime": {
     "end_time": "2024-10-06T12:06:27.719922Z",
     "start_time": "2024-10-06T12:06:27.714728Z"
    }
   },
   "cell_type": "code",
   "source": [
    "### TODO: More indepth on calculation and normalization constant\n",
    "\n",
    "df_posteriors = pd.read_sql_query(\"\"\"\n",
    "SELECT \n",
    "    transaction_id,\n",
    "    posterior,\n",
    "    posterior_base,\n",
    "    substitution_correction_ratio\n",
    "FROM posteriors\n",
    "WHERE posterior > posterior_base\n",
    "\"\"\", conn)\n",
    "df_posteriors"
   ],
   "id": "8d14c16f7b0ff4e6",
   "outputs": [
    {
     "data": {
      "text/plain": [
       "   transaction_id  posterior  posterior_base  substitution_correction_ratio\n",
       "0              19        1.0           0.545                          0.545\n",
       "1              20        1.0           0.545                          0.545\n",
       "2              21        1.0           0.545                          0.545\n",
       "3              22        1.0           0.545                          0.545\n",
       "4              23        1.0           0.545                          0.545\n",
       "5              24        1.0           0.545                          0.545\n",
       "6              25        1.0           0.545                          0.545\n",
       "7              26        1.0           0.545                          0.545"
      ],
      "text/html": [
       "<div>\n",
       "<style scoped>\n",
       "    .dataframe tbody tr th:only-of-type {\n",
       "        vertical-align: middle;\n",
       "    }\n",
       "\n",
       "    .dataframe tbody tr th {\n",
       "        vertical-align: top;\n",
       "    }\n",
       "\n",
       "    .dataframe thead th {\n",
       "        text-align: right;\n",
       "    }\n",
       "</style>\n",
       "<table border=\"1\" class=\"dataframe\">\n",
       "  <thead>\n",
       "    <tr style=\"text-align: right;\">\n",
       "      <th></th>\n",
       "      <th>transaction_id</th>\n",
       "      <th>posterior</th>\n",
       "      <th>posterior_base</th>\n",
       "      <th>substitution_correction_ratio</th>\n",
       "    </tr>\n",
       "  </thead>\n",
       "  <tbody>\n",
       "    <tr>\n",
       "      <th>0</th>\n",
       "      <td>19</td>\n",
       "      <td>1.0</td>\n",
       "      <td>0.545</td>\n",
       "      <td>0.545</td>\n",
       "    </tr>\n",
       "    <tr>\n",
       "      <th>1</th>\n",
       "      <td>20</td>\n",
       "      <td>1.0</td>\n",
       "      <td>0.545</td>\n",
       "      <td>0.545</td>\n",
       "    </tr>\n",
       "    <tr>\n",
       "      <th>2</th>\n",
       "      <td>21</td>\n",
       "      <td>1.0</td>\n",
       "      <td>0.545</td>\n",
       "      <td>0.545</td>\n",
       "    </tr>\n",
       "    <tr>\n",
       "      <th>3</th>\n",
       "      <td>22</td>\n",
       "      <td>1.0</td>\n",
       "      <td>0.545</td>\n",
       "      <td>0.545</td>\n",
       "    </tr>\n",
       "    <tr>\n",
       "      <th>4</th>\n",
       "      <td>23</td>\n",
       "      <td>1.0</td>\n",
       "      <td>0.545</td>\n",
       "      <td>0.545</td>\n",
       "    </tr>\n",
       "    <tr>\n",
       "      <th>5</th>\n",
       "      <td>24</td>\n",
       "      <td>1.0</td>\n",
       "      <td>0.545</td>\n",
       "      <td>0.545</td>\n",
       "    </tr>\n",
       "    <tr>\n",
       "      <th>6</th>\n",
       "      <td>25</td>\n",
       "      <td>1.0</td>\n",
       "      <td>0.545</td>\n",
       "      <td>0.545</td>\n",
       "    </tr>\n",
       "    <tr>\n",
       "      <th>7</th>\n",
       "      <td>26</td>\n",
       "      <td>1.0</td>\n",
       "      <td>0.545</td>\n",
       "      <td>0.545</td>\n",
       "    </tr>\n",
       "  </tbody>\n",
       "</table>\n",
       "</div>"
      ]
     },
     "execution_count": 24,
     "metadata": {},
     "output_type": "execute_result"
    }
   ],
   "execution_count": 24
  },
  {
   "metadata": {},
   "cell_type": "markdown",
   "source": "",
   "id": "105981cd98070ef7"
  },
  {
   "metadata": {},
   "cell_type": "markdown",
   "source": [
    "$$ P(Lemons | Limes \\, Out \\, of \\, Stock) = \\frac{P(Limes \\, Out \\, of \\, Stock | Lemons) \\cdot P(Lemons)}{P(Limes \\, Out \\, of \\, Stock)} $$\n",
    "\n",
    "Substitute the values:\n",
    "\n",
    "$$ P(Lemons | Limes \\, Out \\, of \\, Stock) = \\frac{0.3478 \\cdot 0.6216}{0.2162} $$\n",
    "\n",
    "This simplifies to:\n",
    "\n",
    "$$ P(Lemons | Limes \\, Out \\, of \\, Stock) = 1 $$"
   ],
   "id": "93ca232fa8cbf9f3"
  }
 ],
 "metadata": {
  "kernelspec": {
   "display_name": "Python 3",
   "language": "python",
   "name": "python3"
  },
  "language_info": {
   "codemirror_mode": {
    "name": "ipython",
    "version": 2
   },
   "file_extension": ".py",
   "mimetype": "text/x-python",
   "name": "python",
   "nbconvert_exporter": "python",
   "pygments_lexer": "ipython2",
   "version": "2.7.6"
  }
 },
 "nbformat": 4,
 "nbformat_minor": 5
}
